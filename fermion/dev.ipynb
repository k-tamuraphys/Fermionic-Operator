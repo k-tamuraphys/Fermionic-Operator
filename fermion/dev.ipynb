{
 "cells": [
  {
   "cell_type": "code",
   "execution_count": 17,
   "metadata": {},
   "outputs": [],
   "source": [
    "from scipy.sparse import csr_matrix, kron, linalg\n",
    "import numpy as np"
   ]
  },
  {
   "cell_type": "code",
   "execution_count": 18,
   "metadata": {},
   "outputs": [],
   "source": [
    "identity_matrix = csr_matrix(\n",
    "    [\n",
    "        [1.0, 0.0],\n",
    "        [0.0, 1.0]\n",
    "    ],\n",
    ")\n",
    "\n",
    "pauli_x = csr_matrix(\n",
    "    [\n",
    "        [0.0, 1.0], \n",
    "        [1.0, 0.0]\n",
    "    ]\n",
    ")\n",
    "\n",
    "pauli_y = csr_matrix(\n",
    "    [\n",
    "        [0.0, -1.0j],\n",
    "        [1.0j, 0.0]\n",
    "    ]\n",
    ")\n",
    "\n",
    "pauli_z = csr_matrix(\n",
    "    [\n",
    "        [1.0, 0.0],\n",
    "        [0.0, -1.0]\n",
    "    ]\n",
    ")\n",
    "\n",
    "raising_op = (1 / 2) * (pauli_x + 1.0j* pauli_y)\n",
    "lowering_op = (1 / 2) * (pauli_x - 1.0j * pauli_y)"
   ]
  },
  {
   "cell_type": "code",
   "execution_count": 31,
   "metadata": {},
   "outputs": [],
   "source": [
    "def jordan_wigner(n_modes, index):\n",
    "    cop_matrix = 1.0\n",
    "    for _ in range(index):\n",
    "        cop_matrix = kron(cop_matrix, -pauli_z, format=\"csr\")\n",
    "    cop_matrix = kron(cop_matrix, lowering_op, format=\"csr\")\n",
    "    for _ in range(index + 1, n_modes):\n",
    "        cop_matrix = kron(cop_matrix, identity_matrix, format=\"csr\")\n",
    "    return cop_matrix"
   ]
  },
  {
   "cell_type": "code",
   "execution_count": 35,
   "metadata": {},
   "outputs": [
    {
     "data": {
      "text/plain": [
       "scipy.sparse._csr.csr_matrix"
      ]
     },
     "execution_count": 35,
     "metadata": {},
     "output_type": "execute_result"
    }
   ],
   "source": [
    "n_site = 4\n",
    "ham = jordan_wigner(n_site, 0)@jordan_wigner(n_site, 1) + jordan_wigner(n_site, 1)@jordan_wigner(n_site, 0)\n",
    "type(ham)"
   ]
  },
  {
   "cell_type": "code",
   "execution_count": 36,
   "metadata": {},
   "outputs": [
    {
     "data": {
      "text/plain": [
       "(array([0., 0., 0., 0., 0., 0.]),\n",
       " array([[ 0.06461682+0.28240671j,  0.03965597+0.01227377j,\n",
       "          0.22040665+0.26711299j,  0.19433517-0.04083061j,\n",
       "         -0.11501656+0.14837041j, -0.20784162-0.07744825j],\n",
       "        [-0.15519164-0.16664214j,  0.01725275+0.06518546j,\n",
       "         -0.18904791+0.12733524j,  0.07033629-0.19756198j,\n",
       "          0.17323385-0.01708146j,  0.30345141+0.00843122j],\n",
       "        [-0.19446236+0.03175746j,  0.30541746+0.13479224j,\n",
       "          0.36796375-0.24648796j,  0.01534276+0.05534402j,\n",
       "         -0.13323443-0.10969596j,  0.12147087+0.10295431j],\n",
       "        [-0.09197795-0.11216579j, -0.3123226 +0.20366351j,\n",
       "         -0.09450951-0.27556908j,  0.19861769-0.2465395j ,\n",
       "         -0.04891297+0.0373636j , -0.0701019 -0.18276496j],\n",
       "        [ 0.09121628+0.29092112j,  0.10770245+0.08642687j,\n",
       "          0.1596053 +0.07837537j,  0.04808026-0.00807643j,\n",
       "          0.03601918-0.34052968j,  0.0158075 +0.00972482j],\n",
       "        [-0.10610081-0.0314387j , -0.2651567 +0.22861851j,\n",
       "          0.03948802-0.2511995j ,  0.1362911 -0.10475408j,\n",
       "         -0.18837367+0.17125111j, -0.2957721 +0.19589191j],\n",
       "        [-0.16593536+0.23834732j, -0.20360581+0.25304885j,\n",
       "          0.08722929+0.06489196j, -0.20920373+0.04412788j,\n",
       "         -0.0583213 -0.08558962j, -0.07445569-0.07124355j],\n",
       "        [ 0.3065522 -0.157459j  , -0.03598795-0.0626243j ,\n",
       "          0.06117605-0.21119357j, -0.08286421-0.18125897j,\n",
       "          0.18970719-0.26897397j,  0.03565644-0.24614437j],\n",
       "        [-0.03034805+0.09934332j, -0.13266038-0.14401411j,\n",
       "         -0.03654121+0.01022704j, -0.38689425-0.00624417j,\n",
       "         -0.1313775 +0.07804857j, -0.38726664+0.14715106j],\n",
       "        [-0.1022546 -0.1618926j ,  0.0219044 -0.13383933j,\n",
       "          0.31144718+0.12097661j,  0.26326456-0.11477217j,\n",
       "          0.29577694-0.1554068j , -0.31131048+0.17239143j],\n",
       "        [-0.13825788-0.04606979j, -0.16512044+0.28093017j,\n",
       "          0.10929373+0.01449935j,  0.13921501-0.13451682j,\n",
       "          0.0298434 +0.02983229j,  0.27986821-0.05379464j],\n",
       "        [-0.17280438+0.07071181j,  0.20725186-0.0799821j ,\n",
       "         -0.01707908-0.01352756j,  0.20604096-0.15400244j,\n",
       "         -0.27160629-0.14142665j,  0.16177991+0.14774041j],\n",
       "        [ 0.22871577+0.1472284j , -0.07473293+0.01996272j,\n",
       "         -0.29295521+0.29890751j,  0.21711224-0.35353034j,\n",
       "         -0.06615701-0.34646443j, -0.13905224+0.18362108j],\n",
       "        [-0.28734085+0.22538003j,  0.08123857+0.06341471j,\n",
       "          0.11633424-0.16260245j,  0.13997908+0.04165605j,\n",
       "          0.0188197 +0.0473727j , -0.19100049-0.11753211j],\n",
       "        [ 0.19098209+0.20073862j, -0.26739861+0.16897343j,\n",
       "          0.20118738-0.02210372j, -0.06618629-0.244899j  ,\n",
       "          0.20137649+0.2695427j ,  0.05550787-0.14366795j],\n",
       "        [-0.31929347+0.08011216j, -0.00915336-0.40236299j,\n",
       "          0.08222231-0.0456104j , -0.28896924-0.13615025j,\n",
       "          0.35764293+0.03293083j, -0.01365486+0.20387139j]]))"
      ]
     },
     "execution_count": 36,
     "metadata": {},
     "output_type": "execute_result"
    }
   ],
   "source": [
    "linalg.eigsh(ham)"
   ]
  },
  {
   "cell_type": "code",
   "execution_count": 39,
   "metadata": {},
   "outputs": [
    {
     "data": {
      "text/plain": [
       "array([[1., 0.],\n",
       "       [0., 1.]])"
      ]
     },
     "execution_count": 39,
     "metadata": {},
     "output_type": "execute_result"
    }
   ],
   "source": [
    "pauli_x@pauli_x.toarray()"
   ]
  },
  {
   "cell_type": "code",
   "execution_count": null,
   "metadata": {},
   "outputs": [],
   "source": []
  }
 ],
 "metadata": {
  "interpreter": {
   "hash": "c55b0c6f74e161798970af4cf4a79395928672b0360e8cc03c8df16a65a2020b"
  },
  "kernelspec": {
   "display_name": "Python 3.10.4 ('.venv': venv)",
   "language": "python",
   "name": "python3"
  },
  "language_info": {
   "codemirror_mode": {
    "name": "ipython",
    "version": 3
   },
   "file_extension": ".py",
   "mimetype": "text/x-python",
   "name": "python",
   "nbconvert_exporter": "python",
   "pygments_lexer": "ipython3",
   "version": "3.10.4"
  },
  "orig_nbformat": 4
 },
 "nbformat": 4,
 "nbformat_minor": 2
}
